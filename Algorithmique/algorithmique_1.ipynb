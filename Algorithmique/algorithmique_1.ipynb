{
  "nbformat": 4,
  "nbformat_minor": 0,
  "metadata": {
    "colab": {
      "provenance": []
    },
    "kernelspec": {
      "name": "python3",
      "display_name": "Python 3"
    },
    "language_info": {
      "name": "python"
    }
  },
  "cells": [
    {
      "cell_type": "markdown",
      "source": [
        "## Exercice 1\n",
        "A partir d'un tableau de chiffre calculer la moyenne. Si aucune note n'est présente dans le tableau, Afficher 0\n",
        "\t- Afficher la moyenne de votre tableau."
      ],
      "metadata": {
        "id": "5s4jUIVvigr6"
      }
    },
    {
      "cell_type": "code",
      "execution_count": null,
      "metadata": {
        "id": "IN25fnh2iMBL"
      },
      "outputs": [],
      "source": [
        "import math\n",
        "notes = [12, 5 , 8, 17]"
      ]
    },
    {
      "cell_type": "code",
      "source": [
        "agreg = 0\n",
        "nombre_notes = len(notes)\n",
        "if len(notes) != 0:\n",
        "  for note in notes:\n",
        "    agreg += note\n",
        "  moyenne = agreg/nombre_notes\n",
        "  print(f'note moyenne: {moyenne}')\n",
        "\n",
        "else :\n",
        "  print(f'note moyenne: 0')"
      ],
      "metadata": {
        "colab": {
          "base_uri": "https://localhost:8080/"
        },
        "id": "3Zm_B-OOim2A",
        "outputId": "b946a7bd-f4c8-4009-835e-31bc261d2db4"
      },
      "execution_count": null,
      "outputs": [
        {
          "output_type": "stream",
          "name": "stdout",
          "text": [
            "note moyenne: 10.5\n"
          ]
        }
      ]
    },
    {
      "cell_type": "markdown",
      "source": [
        "## Exercice 2 ##\n",
        "Faire une fonction qui prend en paramètre un prix HT unitaire d’un produit, et son nombre de produit.\n",
        "On veut connaitre le total TTC.\n",
        "\t- Afficher le prix unitaire et le quantitée sur votre page, de cette manière = X HT, X Quantité\n",
        "\t- En dessous grace à l'appel de votre fonction, afficher le résultat de cette manière = XX euros."
      ],
      "metadata": {
        "id": "TV8W66MFjzVY"
      }
    },
    {
      "cell_type": "code",
      "source": [
        "prix_ht_unitaire = 100\n",
        "quantite = 3\n",
        "taxe = 0.2\n"
      ],
      "metadata": {
        "id": "I7hdpSkmipfe"
      },
      "execution_count": null,
      "outputs": []
    },
    {
      "cell_type": "code",
      "source": [
        "somme_ht = prix_ht_unitaire * quantite\n",
        "somme_ttc = somme_ht *(1 + taxe)\n",
        "print(f'{prix_ht_unitaire} HT X {quantite} = {somme_ht} HT')\n",
        "print(f'{somme_ttc} TTC')"
      ],
      "metadata": {
        "colab": {
          "base_uri": "https://localhost:8080/"
        },
        "id": "Pq2-kAYzkdWE",
        "outputId": "5631ddd0-3d7c-4511-ae0d-f76a850f9923"
      },
      "execution_count": null,
      "outputs": [
        {
          "output_type": "stream",
          "name": "stdout",
          "text": [
            "100 HT X 3 = 300 HT\n",
            "360.0 TTC\n"
          ]
        }
      ]
    },
    {
      "cell_type": "markdown",
      "source": [
        "## Exercice 3 ##\n",
        "Faire une fonction qui prend en paramètre une température d’un volume d’eau, on veut savoir dans quel état est l’eau (solide, liquide ou gaz) (positif : liquide, négatif : solide, au dela de 100°: gaz)\n",
        "\t- Afficher la température sur votre page sous cette forme = X degré\n",
        "\t- En dessous grace à l'appel de votre fonction, afficher le résultat de cette manière : \"l'eau est dans un état solide/liquide/gaz\"\n"
      ],
      "metadata": {
        "id": "VlQ-n1H6lAXV"
      }
    },
    {
      "cell_type": "code",
      "source": [
        "water_temp = 50\n"
      ],
      "metadata": {
        "id": "JjW1PBlJk60M"
      },
      "execution_count": null,
      "outputs": []
    },
    {
      "cell_type": "code",
      "source": [
        "if water_temp <= 0:\n",
        "  msg = \"solide\"\n",
        "elif water_temp >= 100:\n",
        "  msg = \"gaz\"\n",
        "else:\n",
        "  msg = \"liquide\"\n",
        "\n",
        "\n",
        "print(f\"{water_temp} degré\")\n",
        "print(f\"L'eau est sous forme {msg}\")"
      ],
      "metadata": {
        "colab": {
          "base_uri": "https://localhost:8080/"
        },
        "id": "XbNaygnVlHF_",
        "outputId": "88cdb535-08b0-43cb-8556-3352bd7343c7"
      },
      "execution_count": null,
      "outputs": [
        {
          "output_type": "stream",
          "name": "stdout",
          "text": [
            "50 degré\n",
            "L'eau est sous forme liquide\n"
          ]
        }
      ]
    },
    {
      "cell_type": "markdown",
      "source": [
        "## Exercice 4 ##\n",
        "Faire une fonction qui prend 2 arguments en paramètres : un prix et un pourcentage.\n",
        "La fonction doit renvoyer le prix augmenté avec le pourcentage.\n",
        "\t- Afficher les deux paramètres dans votre page sous cette forme = X euros, X pourcentage\n",
        "\t- En dessous grace à l'appel de votre fonction, afficher le résultat de cette manière : X euros"
      ],
      "metadata": {
        "id": "sTl3aJrtnJQx"
      }
    },
    {
      "cell_type": "code",
      "source": [
        "prix = 100\n",
        "pourcentage = 30 "
      ],
      "metadata": {
        "id": "pH-NhXjym_I2"
      },
      "execution_count": null,
      "outputs": []
    },
    {
      "cell_type": "code",
      "source": [
        "print(f'prix: {prix} € X {pourcentage}')\n",
        "result = prix * (1 + (pourcentage/100))\n",
        "print(f'{result}€')"
      ],
      "metadata": {
        "colab": {
          "base_uri": "https://localhost:8080/"
        },
        "id": "gvU30T1tnT3Z",
        "outputId": "607e81ea-ef94-4bc6-8f5f-4d190a9a3c3a"
      },
      "execution_count": null,
      "outputs": [
        {
          "output_type": "stream",
          "name": "stdout",
          "text": [
            "prix: 100 € X 30\n",
            "130.0€\n"
          ]
        }
      ]
    },
    {
      "cell_type": "markdown",
      "source": [
        "## Exercice 5 ##\n",
        "(renseignez vous sur la function in_array en php)\n",
        "Écrivez une fonction pour supprimer les doublons d’un tableau : Exemple : [1, 2, 3, 3, 3, 4, 5, 5] Résultat attendu : [1, 2, 3, 4, 5]\n",
        "\t- Afficher le tableau sur votre page, sous cette forme = X, X, X, X, X, X, X.\n",
        "\t- Afficher le résultat sur votre page, sous cette forme = X, X, X, X.\n"
      ],
      "metadata": {
        "id": "Qe2lMFvQopm5"
      }
    },
    {
      "cell_type": "code",
      "source": [
        "entrees = [1, 2, 3, 3, 3, 4, 5, 5] "
      ],
      "metadata": {
        "id": "txz_xhlfoh9v"
      },
      "execution_count": null,
      "outputs": []
    },
    {
      "cell_type": "code",
      "source": [
        "buffer = []\n",
        "for entree in entrees:\n",
        "  if entree not in buffer:\n",
        "    buffer.append(entree)\n",
        "\n",
        "print(buffer)"
      ],
      "metadata": {
        "colab": {
          "base_uri": "https://localhost:8080/"
        },
        "id": "ASozQLDUo07f",
        "outputId": "142c6172-6b4e-41a0-c39f-317ddd384dfb"
      },
      "execution_count": null,
      "outputs": [
        {
          "output_type": "stream",
          "name": "stdout",
          "text": [
            "[1, 2, 3, 4, 5]\n"
          ]
        }
      ]
    },
    {
      "cell_type": "markdown",
      "source": [
        "## Exercice 6 ##\n",
        "Avec le moins de lignes de code possible, proposez moi un algorithme qui, pour un nombre donné, affiche la table de multiplication liée. Par exemple : Si je demande 1, je veux voir :\n",
        "1x1 = 1\n",
        "1x2 = 2\n",
        "etc Et ce jusqu'à 12\n",
        "\n",
        "\t- Afficher le nombre donné sur votre page : Nombre donné : 3\n",
        "\t- Puis affiché le résultat comme au dessus\n"
      ],
      "metadata": {
        "id": "9qTJ7gSlqHc2"
      }
    },
    {
      "cell_type": "code",
      "source": [
        "given_number = 3"
      ],
      "metadata": {
        "id": "1OTZXfqWpbgV"
      },
      "execution_count": null,
      "outputs": []
    },
    {
      "cell_type": "code",
      "source": [
        "for number in range(1,13):\n",
        "  print(f'{given_number} X {number} = {given_number*number}')"
      ],
      "metadata": {
        "colab": {
          "base_uri": "https://localhost:8080/"
        },
        "id": "nZ4FbvDaqQ2A",
        "outputId": "65834837-0fa1-491a-d54f-47fb2a24652a"
      },
      "execution_count": null,
      "outputs": [
        {
          "output_type": "stream",
          "name": "stdout",
          "text": [
            "3 X 1 = 3\n",
            "3 X 2 = 6\n",
            "3 X 3 = 9\n",
            "3 X 4 = 12\n",
            "3 X 5 = 15\n",
            "3 X 6 = 18\n",
            "3 X 7 = 21\n",
            "3 X 8 = 24\n",
            "3 X 9 = 27\n",
            "3 X 10 = 30\n",
            "3 X 11 = 33\n",
            "3 X 12 = 36\n"
          ]
        }
      ]
    },
    {
      "cell_type": "markdown",
      "source": [
        "## Exercice 7 ##\n",
        "Faites une fonction qui prend en argument une chaîne de caractères (LONGUE) Cette fonction doit afficher les 15 premiers caractères puis '...' Par exemple :\n",
        "Je passe la chaîne : 'Lorem quisque class vestibulum'\n",
        "La fonction doit afficher 'Lorem quisque c...'\n",
        "\t- Afficher la chaine de charactere longue sur votre page : 'Lorem quisque class vestibulum'\n",
        "\t- En dessous grace à l'appel de votre fonction, affiché le résultat voulu\n"
      ],
      "metadata": {
        "id": "QspO96oirjLg"
      }
    },
    {
      "cell_type": "code",
      "source": [
        "long_string = 'Lorem quisque class vestibulum'"
      ],
      "metadata": {
        "id": "Zy2YhrcUrNJg"
      },
      "execution_count": null,
      "outputs": []
    },
    {
      "cell_type": "code",
      "source": [
        "def shortifier(txt):\n",
        "  out = txt[0]\n",
        "  print(txt)\n",
        "  for element in range(1, 15):\n",
        "    out+= txt[element]\n",
        "  print(out)\n",
        "\n",
        "shortifier(long_string)"
      ],
      "metadata": {
        "colab": {
          "base_uri": "https://localhost:8080/"
        },
        "id": "JRlip5khr-3w",
        "outputId": "73138c1b-4408-449d-e4fa-4909db1c0fce"
      },
      "execution_count": null,
      "outputs": [
        {
          "output_type": "stream",
          "name": "stdout",
          "text": [
            "Lorem quisque class vestibulum\n",
            "Lorem quisque c\n"
          ]
        }
      ]
    },
    {
      "cell_type": "markdown",
      "source": [
        "## Exercice 8 ##\n",
        "Faites une fonction checkPassword, dont le but est de vérifier la validité d'un mot de passe, qui sera pris en argument Un mot de passe est considéré valide lorsqu'il fait plus de 9 caractères, et qu'il contient au moins le caratère '@' La fonction renverra un booléen pour indiquer la validité du mot de passe.\n",
        "\t- Afficher sur votre page la string X que vous aller checker\n",
        "\t- Afficher grace au retour de votre fonction : valide OU invalide\n"
      ],
      "metadata": {
        "id": "qVgwi9UQtqxs"
      }
    },
    {
      "cell_type": "code",
      "source": [
        "unchecked_password = \"123456789@\""
      ],
      "metadata": {
        "id": "3TsgeHQSslpg"
      },
      "execution_count": null,
      "outputs": []
    },
    {
      "cell_type": "code",
      "source": [
        "from re import S\n",
        "def checkPassword(txt):\n",
        "  len_valid = True\n",
        "  special_char_contain = False\n",
        "  if len(txt) < 9:\n",
        "    len_valid = False\n",
        "  for char in txt:\n",
        "    if char == \"@\":\n",
        "      special_char_contain = True\n",
        "  if special_char_contain and len_valid:\n",
        "    is_valid = True\n",
        "  else:\n",
        "    is_valid = False\n",
        "  \n",
        "  print(f'9 char ou + : {len_valid}')\n",
        "  print(f'contient \"@\": {special_char_contain}')\n",
        "  print(f'password valid: {is_valid}')\n"
      ],
      "metadata": {
        "id": "Igob3BQUtzIA"
      },
      "execution_count": null,
      "outputs": []
    },
    {
      "cell_type": "code",
      "source": [
        "checkPassword(unchecked_password)"
      ],
      "metadata": {
        "colab": {
          "base_uri": "https://localhost:8080/"
        },
        "id": "ZAr9vsd0umlq",
        "outputId": "50e21bbf-efac-4eea-aba2-18fbfcdfcce9"
      },
      "execution_count": null,
      "outputs": [
        {
          "output_type": "stream",
          "name": "stdout",
          "text": [
            "9 char ou + : True\n",
            "contient \"@\": True\n",
            "password valid: True\n"
          ]
        }
      ]
    },
    {
      "cell_type": "markdown",
      "source": [
        "## Exercice 9 ##\n",
        "Faire une fonction qui ajoute derrière chaque voyelle d'une chaine de caractères 'fe' et répète ensuite la voyelle\n",
        "Par exemple :\n",
        "Chat donne : chafeat\n",
        "\t- Afficher la string X donnée\n",
        "\t- Afficher grace à l'appel de votre fonction la string X rendue"
      ],
      "metadata": {
        "id": "Lg0gPSC1xjqD"
      }
    },
    {
      "cell_type": "code",
      "source": [
        "given_string = \"chat\""
      ],
      "metadata": {
        "id": "dy122ew6vJrA"
      },
      "execution_count": null,
      "outputs": []
    },
    {
      "cell_type": "code",
      "source": [
        "def fe(txt):\n",
        "  result = \"\"\n",
        "  voyelles = [\"a\", \"e\", \"i\", \"o\", \"u\", \"y\"]\n",
        "  for char in txt:\n",
        "    result += char\n",
        "    if char in voyelles:\n",
        "      result += \"fe\"\n",
        "      result += char\n",
        "  print(result)"
      ],
      "metadata": {
        "id": "BbzQAlboutGI"
      },
      "execution_count": null,
      "outputs": []
    },
    {
      "cell_type": "code",
      "source": [
        "fe(given_string)"
      ],
      "metadata": {
        "colab": {
          "base_uri": "https://localhost:8080/"
        },
        "id": "LNMmxd1myELW",
        "outputId": "46db28b3-7478-44c9-a30f-830dd0d3dab3"
      },
      "execution_count": null,
      "outputs": [
        {
          "output_type": "stream",
          "name": "stdout",
          "text": [
            "chafeat\n"
          ]
        }
      ]
    },
    {
      "cell_type": "markdown",
      "source": [
        "## Exercice 10 ##\n",
        "Faire une fonction qui permet d'inverser une chaîne de caractères.\n",
        "Elle prendra en paramètre une chaîne de caractère et la chaîne de caractères inversées sera retournée par la fonction.\n",
        "\t- Afficher la string X donnée\n",
        "\t- Afficher grace à l'appel de votre fonction la string X rendue\n"
      ],
      "metadata": {
        "id": "7o8v8CsFzRX9"
      }
    },
    {
      "cell_type": "code",
      "source": [
        "given_string = \"wololo\""
      ],
      "metadata": {
        "id": "SCl4DkhMyHaU"
      },
      "execution_count": null,
      "outputs": []
    },
    {
      "cell_type": "code",
      "source": [
        "def inverse(txt):\n",
        "  result = \"\"\n",
        "  for number in range(len(txt)-1,-1,-1):\n",
        "    result += txt[number]\n",
        "  print(result)"
      ],
      "metadata": {
        "id": "8cwMBV--zZqn"
      },
      "execution_count": null,
      "outputs": []
    },
    {
      "cell_type": "code",
      "source": [
        "inverse(given_string)"
      ],
      "metadata": {
        "colab": {
          "base_uri": "https://localhost:8080/"
        },
        "id": "0xmgB2jiztu2",
        "outputId": "c022e029-f074-4e26-9458-3ae7ca617939"
      },
      "execution_count": null,
      "outputs": [
        {
          "output_type": "stream",
          "name": "stdout",
          "text": [
            "ololow\n"
          ]
        }
      ]
    },
    {
      "cell_type": "markdown",
      "source": [
        "## Exercice 11 ##\n",
        "Faire une fonction qui permet de déterminer si une chaîne de caractères est un \"Pangram\".\n",
        "Elle prendra en paramètre une chaîne de caractère, et elle retournera un booléen : true si la chaine est un pangram, false sinon.\n",
        "Qu'est-ce qu'un pangram ?\n",
        "Un pangram est une phrase qui utilise **toutes** les lettres de l'alphabet au moins une fois.\n",
        "Vous allez avoir besoin de ça : [\"a\", \"b\", \"c\", \"d\", \"e\", \"f\", \"g\", \"h\", \"i\", \"j\", \"k\", \"l\", \"m\", \"n\", \"o\", \"p\", \"q\", \"r\", \"s\", \"t\", \"u\", \"v\", \"w\", \"x\", \"y\", \"z\"]\n",
        "Vous pouvez tester un résultat \"true\" avec cette phrase : \"The quick brown fox jumps over the lazy dog.\"\n",
        "\n",
        "\t- Afficher la string X donnée\n",
        "\t- Afficher le résultat true ou false en dessous grace à votre fonction"
      ],
      "metadata": {
        "id": "w2o9xI3P0n-R"
      }
    },
    {
      "cell_type": "code",
      "source": [
        "given_string = \"The quick brown fox jumps over the lazy dog.\""
      ],
      "metadata": {
        "id": "NsFqR84C013_"
      },
      "execution_count": null,
      "outputs": []
    },
    {
      "cell_type": "code",
      "source": [
        "def is_tangram(txt):\n",
        "  lettres = [\"a\", \"b\", \"c\", \"d\", \"e\", \"f\", \"g\", \"h\", \"i\", \"j\", \"k\", \"l\", \"m\", \"n\", \"o\", \"p\", \"q\", \"r\", \"s\", \"t\", \"u\", \"v\", \"w\", \"x\", \"y\", \"z\"]\n",
        "  for lettre in lettres:\n",
        "    if lettre.lower() not in txt.lower():\n",
        "      print(lettre)\n",
        "      return False\n",
        "  return True\n",
        "  "
      ],
      "metadata": {
        "id": "89Dm5aopzzVW"
      },
      "execution_count": null,
      "outputs": []
    },
    {
      "cell_type": "code",
      "source": [
        "is_tangram(given_string)"
      ],
      "metadata": {
        "colab": {
          "base_uri": "https://localhost:8080/"
        },
        "id": "NmfPyUVT1YGG",
        "outputId": "35fb6aa8-103c-4299-fa93-0af1a7e852f7"
      },
      "execution_count": null,
      "outputs": [
        {
          "output_type": "execute_result",
          "data": {
            "text/plain": [
              "True"
            ]
          },
          "metadata": {},
          "execution_count": 174
        }
      ]
    },
    {
      "cell_type": "markdown",
      "source": [
        "## Exercice 12 ##\n",
        "Faire une fonction qui permet de calculer la valeur d'un mot au Scrabble.\n",
        "\n",
        "Elle prendra en paramètre une chaîne de caractère et la valeur en point du mot sera retournée.\n",
        "\n",
        "Valeurs des lettres :\n",
        "\n",
        "- 1 point: \"A\", \"E\", \"I\", \"O\", \"U\", \"L\", \"N\", \"R\", \"S\", \"T\",\n",
        "- 2 points: \"D\", \"G\",\n",
        "- 3 points: \"B\", \"C\", \"M\", \"P\",\n",
        "- 4 points: \"F\", \"H\", \"V\", \"W\", \"Y\",\n",
        "- 5 points: \"K\",\n",
        "- 8 points: \"J\", \"X\",\n",
        "- 10 points: \"Q\", \"Z\",\n",
        "\n",
        "\t- Afficher le mot donnée, exemple : CHAT\n",
        "\t- Afficher en dessous le nombre de point obtenu grace à votre fonction, ex : 10 pts"
      ],
      "metadata": {
        "id": "9GYPQPjN4ZHP"
      }
    },
    {
      "cell_type": "code",
      "source": [
        "given_string = \"CHAT\""
      ],
      "metadata": {
        "id": "a3KsyzVM1a2C"
      },
      "execution_count": null,
      "outputs": []
    },
    {
      "cell_type": "code",
      "source": [
        "def scrabble_count(txt):\n",
        "  score = 0\n",
        "  points = {\"A\" : 1, \"E\" : 1, \"I\" : 1, \"O\" : 1, \"U\" : 1, \"L\":1, \"N\":1, \"R\":1, \"S\":1, \"T\":1,\n",
        "          \"D\": 2, \"G\":2,\n",
        "          \"B\":3, \"C\":3, \"M\":3, \"P\":3,\n",
        "          \"F\":4, \"H\":4, \"V\":4, \"W\":4, \"Y\":4,\n",
        "          \"K\":5,\n",
        "          \"J\":8, \"X\":8,\n",
        "          \"Q\":10, \"Z\":10}\n",
        "  for char in txt:\n",
        "    score += points[char]\n",
        "  return score\n",
        "\n"
      ],
      "metadata": {
        "id": "QO9cldJS4kqY"
      },
      "execution_count": null,
      "outputs": []
    },
    {
      "cell_type": "code",
      "source": [
        "scrabble_count(given_string)"
      ],
      "metadata": {
        "colab": {
          "base_uri": "https://localhost:8080/"
        },
        "id": "jXh-jArB6ww1",
        "outputId": "484efef6-9ceb-4467-cf28-1897da26f405"
      },
      "execution_count": null,
      "outputs": [
        {
          "output_type": "execute_result",
          "data": {
            "text/plain": [
              "9"
            ]
          },
          "metadata": {},
          "execution_count": 183
        }
      ]
    },
    {
      "cell_type": "markdown",
      "source": [
        "## Exercice 13 ##\n",
        "Créer une fonction qui va prendre un (gros) nombre en paramètre (EXEMPLE : 1350)\n",
        "\t- Rentrer dans une boucle qui va décrémenter votre nombre d'un nombre aléatoire compris entre 1 et 50.\n",
        "\t- Compter combien de passages sont nécéssaire dans votre boucle pour que votre nombre de base soit égal ou inférieur à zéro.\n",
        "\t\n",
        "\t- Afficher le nombre donné, ex : 1569\n",
        "\t- Afficher en dessous le nombre de passage dans la boucle : ex : 45 passages."
      ],
      "metadata": {
        "id": "e5pHtt0L7ZUA"
      }
    },
    {
      "cell_type": "code",
      "source": [
        "given_number = 1569"
      ],
      "metadata": {
        "id": "59jAEUkd642d"
      },
      "execution_count": null,
      "outputs": []
    },
    {
      "cell_type": "code",
      "source": [
        "import random\n",
        "def decrementation(nb):\n",
        "  count = 0\n",
        "  print(nb)\n",
        "  while nb > 0:\n",
        "    count += 1\n",
        "    nb -= random.randint(1,51)\n",
        "  return count\n",
        "\n",
        "  print(random.randint(1,50))"
      ],
      "metadata": {
        "id": "1WqdRRyc836h"
      },
      "execution_count": null,
      "outputs": []
    },
    {
      "cell_type": "code",
      "source": [
        "decrementation(given_number)"
      ],
      "metadata": {
        "colab": {
          "base_uri": "https://localhost:8080/"
        },
        "id": "bTtybXai9CC6",
        "outputId": "38813856-0ab0-4eaf-e2a4-9e9ecb3f36b9"
      },
      "execution_count": null,
      "outputs": [
        {
          "output_type": "stream",
          "name": "stdout",
          "text": [
            "1569\n"
          ]
        },
        {
          "output_type": "execute_result",
          "data": {
            "text/plain": [
              "62"
            ]
          },
          "metadata": {},
          "execution_count": 194
        }
      ]
    },
    {
      "cell_type": "markdown",
      "source": [
        "## Exercice 14 ##\n",
        "Le jeu du petit cochon! Attention plûtot difficile dans l'algo!\n",
        "   - Un cochon peut avoir : 4 pattes, 2 yeux, 1 queue, 2 oreilles\n",
        "   - Une fois le cochon assemblé, vous avez gagné !\n",
        "   - Pour se faire il faut lancer un dé spécial :\n",
        "      - Ce dé est composé de 6 faces :\n",
        "      * 3 avec des pattes\n",
        "      * 1 avec un oeil\n",
        "      * 1 avec une queue\n",
        "      * 1 avec une oreille\n",
        "        (Les faces avec les pattes, se sont pas toutes collées)\n",
        "        \n",
        "   Objectif (fonction à faire) :\n",
        "   - Vous devez compter en combien de lancé de dé vous avez réussi à assembler votre cochon ! \n",
        "   \n",
        "   - Affichez pour chaque lancé de dés, quelle face avez vous eu : ex en premier : pattes, ensuite : oeil etc etc\n",
        "   - Affichez à la toute fin, combien de lancé vous avez du faire, exemple : j'ai du faire X lancés !"
      ],
      "metadata": {
        "id": "8dQYGXvP-FAY"
      }
    },
    {
      "cell_type": "code",
      "source": [
        "print(random.randint(0,1))"
      ],
      "metadata": {
        "colab": {
          "base_uri": "https://localhost:8080/"
        },
        "id": "mVanpUBwAH0G",
        "outputId": "14c5a58e-7643-434f-ed0a-16ff30be2f9d"
      },
      "execution_count": null,
      "outputs": [
        {
          "output_type": "stream",
          "name": "stdout",
          "text": [
            "1\n"
          ]
        }
      ]
    },
    {
      "cell_type": "code",
      "source": [
        "def cochonize():\n",
        "  result = {1: \"patte\", 2: \"oeil\", 3: \"patte\", 4: \"queue\", 5:\"patte\", 6:\"oreille\"}\n",
        "  nb_pattes = 0\n",
        "  max_pattes = 4\n",
        "  nb_oeil = 0\n",
        "  max_oeil = 2\n",
        "  nb_queue = 0\n",
        "  max_queue = 1\n",
        "  nb_oreille = 0\n",
        "  max_oreille = 2\n",
        "\n",
        "  cochon_complet = False\n",
        "  round_count = 0\n",
        "\n",
        "  while cochon_complet == False:\n",
        "    round_count += 1\n",
        "    lancer = random.randint(1,6)\n",
        "    txt = result[lancer]\n",
        "    print(f'{lancer}: {txt}')\n",
        "    if txt == \"patte\" and nb_pattes < max_pattes:\n",
        "      nb_pattes += 1\n",
        "    if txt == \"oeil\" and nb_oeil < max_oeil:\n",
        "      nb_oeil += 1\n",
        "    if txt == 'queue' and nb_queue < max_queue:\n",
        "      nb_queue += 1\n",
        "    if txt == \"oreille\" and nb_oreille < max_oreille:\n",
        "      nb_oreille += 1\n",
        "    if (nb_pattes == max_pattes) and (nb_oeil == max_oeil) and (nb_queue == max_queue) and (nb_oreille == max_oreille):\n",
        "      cochon_complet = True\n",
        "  \n",
        "  print(round_count)\n",
        "\n",
        "\n"
      ],
      "metadata": {
        "id": "quZ-Z3yt90Tf"
      },
      "execution_count": null,
      "outputs": []
    },
    {
      "cell_type": "code",
      "source": [
        "cochonize()"
      ],
      "metadata": {
        "colab": {
          "base_uri": "https://localhost:8080/"
        },
        "id": "lKWtoPZXAPQQ",
        "outputId": "ad34000c-6a2c-4660-f90f-a85ccc615a6d"
      },
      "execution_count": null,
      "outputs": [
        {
          "output_type": "stream",
          "name": "stdout",
          "text": [
            "4: queue\n",
            "4: queue\n",
            "5: patte\n",
            "6: oreille\n",
            "3: patte\n",
            "6: oreille\n",
            "4: queue\n",
            "6: oreille\n",
            "2: oeil\n",
            "3: patte\n",
            "4: queue\n",
            "1: patte\n",
            "6: oreille\n",
            "4: queue\n",
            "1: patte\n",
            "3: patte\n",
            "5: patte\n",
            "2: oeil\n",
            "18\n"
          ]
        }
      ]
    },
    {
      "cell_type": "markdown",
      "source": [
        "## Exercice 15 ##\n",
        "Un jeu de Yahtzee ! Attention plûtot difficile dans l'algo (même très difficile, attention aux noeuds au cerveau) !\n",
        "Faire une fonction qui simule un jeu de yatzee (https://fr.wikipedia.org/wiki/Yahtzee)\n",
        "   Le Yatzee est un jeu de lancer de dé (au nombre de 5)\n",
        "   Vous devrez afficher chaque lancé de dé random, on va rester simple et afficher quelque chose de ce style :\n",
        "   (1) (4) (6) (2) (4)\n",
        "   \n",
        "   Une fois le lancé affiché, la fonction doit informer l'utilisateur de ce qu'il a fait :\n",
        "   - Brelan (3 dés du même résultat)\n",
        "   - Carré (4 dés du même résultat)\n",
        "   - Full (3 dés du même résultat et 2 dés du même résultat)\n",
        "   - Yams (5 dés du même résultat)\n",
        "   - Petite suite : 4 dés se suivent (1, 2, 3, 4 ou 2, 3, 4, 5 ou 3, 4, 5, 6)\n",
        "   - Grande suite : les 5 dés se suivent\n",
        "\n",
        "\tExemple à afficher à l'utilisateur une fois les calculs terminés : \n",
        "\t(2) (2) (4) (4) (4)\n",
        "\tEst ce une grande suite : Non\n",
        "\tEst ce une petite suite : Non\n",
        "\tEst ce que c'est un Yatzhee : Non\n",
        "\tEst ce que c'est un Square : Non\n",
        "\tEst ce que c'est un Full : Oui\n",
        "\tEst ce que c'est un Brelan : Oui\n"
      ],
      "metadata": {
        "id": "ZkcPDu6YDNdz"
      }
    },
    {
      "cell_type": "code",
      "source": [
        "def lancer():\n",
        "  lancers = []\n",
        "  for number in range(0,5):\n",
        "    lancers.append(random.randint(1,6))\n",
        "    lancers.sort()\n",
        "  return lancers"
      ],
      "metadata": {
        "id": "uX_wufg1C8xa"
      },
      "execution_count": null,
      "outputs": []
    },
    {
      "cell_type": "code",
      "source": [
        "def yahtzcount(liste):\n",
        "  results = {\n",
        "      1 : 0,\n",
        "      2 : 0,\n",
        "      3 : 0,\n",
        "      4 : 0,\n",
        "      5 : 0,\n",
        "      6 : 0,\n",
        "  }\n",
        "  for number in range(1,7):\n",
        "    for element in liste:\n",
        "      if element == number:\n",
        "        results[element] += 1\n",
        "  return results"
      ],
      "metadata": {
        "id": "o4GsAQExM0UW"
      },
      "execution_count": null,
      "outputs": []
    },
    {
      "cell_type": "code",
      "source": [
        "def is_yams(dictio):\n",
        "  for key, value in dictio.items():\n",
        "    if value == 5:\n",
        "      return True \n",
        "  return False\n"
      ],
      "metadata": {
        "id": "EsgPtT70U53l"
      },
      "execution_count": null,
      "outputs": []
    },
    {
      "cell_type": "code",
      "source": [
        "def is_carre(dictio):\n",
        "  for key, value in dictio.items():\n",
        "    if value == 4:\n",
        "      return True\n",
        "  return False \n"
      ],
      "metadata": {
        "id": "2X39CUnkW6fT"
      },
      "execution_count": null,
      "outputs": []
    },
    {
      "cell_type": "code",
      "source": [
        "def is_brelan(dictio):\n",
        "  for key, value in dictio.items():\n",
        "    if value == 3:\n",
        "      return True\n",
        "  return False\n"
      ],
      "metadata": {
        "id": "iU8ygWGkXE1z"
      },
      "execution_count": null,
      "outputs": []
    },
    {
      "cell_type": "code",
      "source": [
        "def is_full(dictio):\n",
        "  for key, value in dictio.items():\n",
        "    if value == 2:\n",
        "      return True\n",
        "  return False"
      ],
      "metadata": {
        "id": "gTUWSfjLXNpB"
      },
      "execution_count": null,
      "outputs": []
    },
    {
      "cell_type": "code",
      "source": [
        "def big_suite(liste):\n",
        "  model = [[1, 2 , 3, 4, 5],[2, 3, 4, 5, 6]]\n",
        "  if liste in model:\n",
        "    return True\n",
        "  return False\n"
      ],
      "metadata": {
        "id": "ZfGeuMTTYXE7"
      },
      "execution_count": null,
      "outputs": []
    },
    {
      "cell_type": "code",
      "source": [
        "def little_suite(liste):\n",
        "  models = [[1, 2, 3, 4], [2, 3, 4, 5], [3, 4, 5, 6]]\n",
        "  unique_liste = list(set(liste))\n",
        "  # print(unique_liste)\n",
        "  if len(unique_liste) == 5:\n",
        "    bot_unique_list = unique_liste[0:-1]\n",
        "    if bot_unique_list in models:\n",
        "      return True\n",
        "    \n",
        "    top_unique_list = unique_liste[1:]\n",
        "    if top_unique_list in models:\n",
        "      return True\n",
        "\n",
        "  if len(unique_liste) == 4:\n",
        "    if unique_liste in models:\n",
        "      return True\n",
        "\n",
        "  return False"
      ],
      "metadata": {
        "id": "ZgFQUYKYYrGv"
      },
      "execution_count": null,
      "outputs": []
    },
    {
      "cell_type": "code",
      "source": [
        "def yahtzbitre(yam=bool, carr=bool, brel=bool,ful=bool, big=bool, little=bool):\n",
        "  if yam:\n",
        "    return \"yams\"\n",
        "  if carr:\n",
        "    return \"carré\"\n",
        "  if brel and ful:\n",
        "    return \"full\"\n",
        "  if brel and not ful:\n",
        "    return \"brellan\"\n",
        "  if big:\n",
        "    return \"grande suite\"\n",
        "  if little:\n",
        "    return \"petite suite\"\n",
        "  \n",
        "  else:\n",
        "    return \"kepouik!\"\n",
        "\n",
        "  \n",
        "  "
      ],
      "metadata": {
        "id": "0cGrCi5SXUa8"
      },
      "execution_count": null,
      "outputs": []
    },
    {
      "cell_type": "code",
      "source": [
        "def Yahtzee():\n",
        "  roll = lancer()\n",
        "  count = yahtzcount(roll)\n",
        "  msg = yahtzbitre(yam=is_yams(count), carr=is_carre(count), \n",
        "                   brel=is_brelan(count), ful=is_full(count), \n",
        "                   big=big_suite(roll), little=little_suite(roll))\n",
        "  print(f'{roll}, {msg}')"
      ],
      "metadata": {
        "id": "hib35heeMy0W"
      },
      "execution_count": null,
      "outputs": []
    },
    {
      "cell_type": "code",
      "source": [
        "Yahtzee()"
      ],
      "metadata": {
        "colab": {
          "base_uri": "https://localhost:8080/"
        },
        "id": "2MnO-Us-Vi83",
        "outputId": "84d4d072-a707-4f59-bee2-3fb8f560c51c"
      },
      "execution_count": null,
      "outputs": [
        {
          "output_type": "stream",
          "name": "stdout",
          "text": [
            "[1, 3, 4, 5, 6], petite suite\n"
          ]
        }
      ]
    },
    {
      "cell_type": "code",
      "source": [],
      "metadata": {
        "id": "0H4US1Nkhh_Q"
      },
      "execution_count": null,
      "outputs": []
    }
  ]
}